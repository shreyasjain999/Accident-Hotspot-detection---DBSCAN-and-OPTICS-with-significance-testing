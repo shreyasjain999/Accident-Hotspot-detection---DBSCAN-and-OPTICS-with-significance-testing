{
 "cells": [
  {
   "cell_type": "code",
   "execution_count": 1,
   "metadata": {},
   "outputs": [],
   "source": [
    "import numpy as np\n",
    "import pandas as pd\n",
    "import geopandas as gpd\n",
    "from shapely.geometry import Point\n",
    "from functools import partial\n",
    "from shapely.ops import transform\n",
    "import pyproj\n",
    "import math\n",
    "from shapely.ops import cascaded_union\n",
    "from sklearn.cluster import OPTICS\n",
    "import mplleaflet\n",
    "import plotly.express as px\n",
    "import matplotlib.pyplot as plt\n",
    "from sklearn import metrics"
   ]
  },
  {
   "cell_type": "code",
   "execution_count": 17,
   "metadata": {},
   "outputs": [],
   "source": [
    "def load_data():\n",
    "    #Loads the CSV files and appends them into a single DataFrame\n",
    "    column_types = {'Accident_Index': np.string_, 'LSOA_of_Accident_Location': np.string_}\n",
    "    data13 = pd.read_csv('/home/shreyas/Desktop/major2/data/DfTRoadSafety_Accidents_2013.csv', dtype=column_types)\n",
    "    data14 = pd.read_csv('/home/shreyas/Desktop/major2/data/DfTRoadSafety_Accidents_2014.csv', dtype=column_types)\n",
    "    data15 = pd.read_csv('/home/shreyas/Desktop/major2/data/DfTRoadSafety_Accidents_2015.csv', dtype=column_types)\n",
    "    data16 = pd.read_csv('/home/shreyas/Desktop/major2/data/DftRoadSafety_Accidents_2016.csv', dtype=column_types)\n",
    "    return data16.append(data15.append(data14.append(data13)))"
   ]
  },
  {
   "cell_type": "code",
   "execution_count": 18,
   "metadata": {},
   "outputs": [],
   "source": [
    "data = load_data()"
   ]
  },
  {
   "cell_type": "code",
   "execution_count": 19,
   "metadata": {},
   "outputs": [
    {
     "data": {
      "text/plain": [
       "(561689, 32)"
      ]
     },
     "execution_count": 19,
     "metadata": {},
     "output_type": "execute_result"
    }
   ],
   "source": [
    "data.shape\n"
   ]
  },
  {
   "cell_type": "code",
   "execution_count": 20,
   "metadata": {},
   "outputs": [],
   "source": [
    "def concave_hull(points, k):\n",
    "    pass"
   ]
  },
  {
   "cell_type": "code",
   "execution_count": 21,
   "metadata": {},
   "outputs": [],
   "source": [
    "# Drop invalid rows\n",
    "data.dropna()\n",
    "\n",
    "data = data.loc[data.Latitude <=  90.0]\n",
    "data = data.loc[data.Latitude >= -90.0]\n",
    "\n",
    "data = data.loc[data.Longitude <=  180.0]\n",
    "data = data.loc[data.Longitude >= -180.0]"
   ]
  },
  {
   "cell_type": "code",
   "execution_count": 22,
   "metadata": {},
   "outputs": [],
   "source": [
    "# Create the radian longitude and latitude columns\n",
    "\n",
    "\n",
    "data['rad_lng'] = data['Longitude'] * math.pi / 180.0\n",
    "data['rad_lat'] = data['Latitude'] * math.pi / 180.0"
   ]
  },
  {
   "cell_type": "code",
   "execution_count": 23,
   "metadata": {},
   "outputs": [
    {
     "data": {
      "text/plain": [
       "561654"
      ]
     },
     "execution_count": 23,
     "metadata": {},
     "output_type": "execute_result"
    }
   ],
   "source": [
    "len(data.index)\n"
   ]
  },
  {
   "cell_type": "code",
   "execution_count": 24,
   "metadata": {},
   "outputs": [],
   "source": [
    "eps_in_meters = 50.0\n",
    "num_samples = 10"
   ]
  },
  {
   "cell_type": "code",
   "execution_count": 25,
   "metadata": {},
   "outputs": [
    {
     "name": "stderr",
     "output_type": "stream",
     "text": [
      "/home/shreyas/.local/lib/python3.6/site-packages/sklearn/cluster/_optics.py:802: RuntimeWarning:\n",
      "\n",
      "divide by zero encountered in true_divide\n",
      "\n"
     ]
    }
   ],
   "source": [
    "\n",
    "data['cluster'] =OPTICS( min_samples=num_samples, metric='haversine').fit_predict(data[['rad_lat', 'rad_lng']])"
   ]
  },
  {
   "cell_type": "code",
   "execution_count": 26,
   "metadata": {},
   "outputs": [],
   "source": [
    "labels= data['cluster'].to_frame()['cluster'].to_numpy()   #Dataframe to numpy array"
   ]
  },
  {
   "cell_type": "code",
   "execution_count": 30,
   "metadata": {
    "scrolled": false
   },
   "outputs": [
    {
     "data": {
      "text/plain": [
       "17600"
      ]
     },
     "execution_count": 30,
     "metadata": {},
     "output_type": "execute_result"
    }
   ],
   "source": [
    "len(set(labels))"
   ]
  },
  {
   "cell_type": "code",
   "execution_count": 28,
   "metadata": {},
   "outputs": [
    {
     "name": "stdout",
     "output_type": "stream",
     "text": [
      "561654\n",
      "[3 3 3 ... 3 2 3]\n"
     ]
    }
   ],
   "source": [
    "labels_true=data['Accident_Severity'].to_frame()['Accident_Severity'].to_numpy()   #Dataframe to numpy array\n",
    "print(len(labels_true))\n",
    "print(labels_true)"
   ]
  },
  {
   "cell_type": "code",
   "execution_count": 29,
   "metadata": {},
   "outputs": [
    {
     "name": "stdout",
     "output_type": "stream",
     "text": [
      "Homogeneity: 0.075\n",
      "Completeness: 0.006\n",
      "V-measure: 0.011\n"
     ]
    }
   ],
   "source": [
    "print(\"Homogeneity: %0.3f\" % metrics.homogeneity_score(labels_true, labels))\n",
    "print(\"Completeness: %0.3f\" % metrics.completeness_score(labels_true, labels))\n",
    "print(\"V-measure: %0.3f\" % metrics.v_measure_score(labels_true, labels))"
   ]
  }
 ],
 "metadata": {
  "kernelspec": {
   "display_name": "Python 3",
   "language": "python",
   "name": "python3"
  },
  "language_info": {
   "codemirror_mode": {
    "name": "ipython",
    "version": 3
   },
   "file_extension": ".py",
   "mimetype": "text/x-python",
   "name": "python",
   "nbconvert_exporter": "python",
   "pygments_lexer": "ipython3",
   "version": "3.6.7"
  }
 },
 "nbformat": 4,
 "nbformat_minor": 4
}
